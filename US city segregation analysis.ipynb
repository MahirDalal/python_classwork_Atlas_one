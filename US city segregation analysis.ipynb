{
 "cells": [
  {
   "cell_type": "markdown",
   "id": "b4f3843b",
   "metadata": {},
   "source": [
    "# Racial Segregation in US Cities Report\n",
    "**By Mahir Dalal| Division B** "
   ]
  },
  {
   "cell_type": "code",
   "execution_count": 1,
   "id": "01d75fc2",
   "metadata": {},
   "outputs": [],
   "source": [
    "# Projet Setup \n",
    "import pandas as pd"
   ]
  },
  {
   "cell_type": "code",
   "execution_count": 3,
   "id": "453f30a0",
   "metadata": {},
   "outputs": [
    {
     "data": {
      "text/html": [
       "<div>\n",
       "<style scoped>\n",
       "    .dataframe tbody tr th:only-of-type {\n",
       "        vertical-align: middle;\n",
       "    }\n",
       "\n",
       "    .dataframe tbody tr th {\n",
       "        vertical-align: top;\n",
       "    }\n",
       "\n",
       "    .dataframe thead th {\n",
       "        text-align: right;\n",
       "    }\n",
       "</style>\n",
       "<table border=\"1\" class=\"dataframe\">\n",
       "  <thead>\n",
       "    <tr style=\"text-align: right;\">\n",
       "      <th></th>\n",
       "      <th>GEOID</th>\n",
       "      <th>GEO.display.label</th>\n",
       "      <th>pop</th>\n",
       "      <th>pop.white</th>\n",
       "      <th>pop.not.white</th>\n",
       "      <th>pct.white</th>\n",
       "      <th>pct.not.white</th>\n",
       "    </tr>\n",
       "  </thead>\n",
       "  <tbody>\n",
       "    <tr>\n",
       "      <th>0</th>\n",
       "      <td>17031010201</td>\n",
       "      <td>17031010201</td>\n",
       "      <td>6450</td>\n",
       "      <td>2312</td>\n",
       "      <td>4138</td>\n",
       "      <td>0.358450</td>\n",
       "      <td>0.641550</td>\n",
       "    </tr>\n",
       "    <tr>\n",
       "      <th>1</th>\n",
       "      <td>17031010202</td>\n",
       "      <td>17031010202</td>\n",
       "      <td>2818</td>\n",
       "      <td>1237</td>\n",
       "      <td>1581</td>\n",
       "      <td>0.438964</td>\n",
       "      <td>0.561036</td>\n",
       "    </tr>\n",
       "    <tr>\n",
       "      <th>2</th>\n",
       "      <td>17031010300</td>\n",
       "      <td>17031010300</td>\n",
       "      <td>6236</td>\n",
       "      <td>3267</td>\n",
       "      <td>2969</td>\n",
       "      <td>0.523894</td>\n",
       "      <td>0.476106</td>\n",
       "    </tr>\n",
       "    <tr>\n",
       "      <th>3</th>\n",
       "      <td>17031010400</td>\n",
       "      <td>17031010400</td>\n",
       "      <td>5042</td>\n",
       "      <td>3341</td>\n",
       "      <td>1701</td>\n",
       "      <td>0.662634</td>\n",
       "      <td>0.337366</td>\n",
       "    </tr>\n",
       "    <tr>\n",
       "      <th>4</th>\n",
       "      <td>17031010503</td>\n",
       "      <td>17031010503</td>\n",
       "      <td>2290</td>\n",
       "      <td>1452</td>\n",
       "      <td>838</td>\n",
       "      <td>0.634061</td>\n",
       "      <td>0.365939</td>\n",
       "    </tr>\n",
       "  </tbody>\n",
       "</table>\n",
       "</div>"
      ],
      "text/plain": [
       "         GEOID  GEO.display.label   pop  pop.white  pop.not.white  pct.white  \\\n",
       "0  17031010201        17031010201  6450       2312           4138   0.358450   \n",
       "1  17031010202        17031010202  2818       1237           1581   0.438964   \n",
       "2  17031010300        17031010300  6236       3267           2969   0.523894   \n",
       "3  17031010400        17031010400  5042       3341           1701   0.662634   \n",
       "4  17031010503        17031010503  2290       1452            838   0.634061   \n",
       "\n",
       "   pct.not.white  \n",
       "0       0.641550  \n",
       "1       0.561036  \n",
       "2       0.476106  \n",
       "3       0.337366  \n",
       "4       0.365939  "
      ]
     },
     "execution_count": 3,
     "metadata": {},
     "output_type": "execute_result"
    }
   ],
   "source": [
    "# import the chicago data\n",
    "chicago_df=pd.read_csv(\"data/prepped/chicago_race.csv\")\n",
    "chicago_df.head(5)"
   ]
  },
  {
   "cell_type": "markdown",
   "id": "248a6ec7",
   "metadata": {},
   "source": [
    "# Diversity Ratio"
   ]
  },
  {
   "cell_type": "code",
   "execution_count": 6,
   "id": "b6a0a547",
   "metadata": {},
   "outputs": [
    {
     "name": "stdout",
     "output_type": "stream",
     "text": [
      "There are 2513996 white people\n",
      "There are 2134618 non white people\n",
      "The diversity ratio is 1.1777264128757463\n"
     ]
    }
   ],
   "source": [
    "total_white_people=chicago_df[\"pop.white\"].sum()\n",
    "print(\"There are\",total_white_people,\"white people\")\n",
    "\n",
    "total_not_white_people=chicago_df[\"pop.not.white\"].sum()\n",
    "print(\"There are\",total_not_white_people,\"non white people\")\n",
    "\n",
    "diversity_ratio=total_white_people/total_not_white_people\n",
    "print(\"The diversity ratio is\",diversity_ratio)"
   ]
  },
  {
   "cell_type": "markdown",
   "id": "28060f97",
   "metadata": {},
   "source": [
    "# Measuring Chicago's Interaction Index"
   ]
  },
  {
   "cell_type": "code",
   "execution_count": 11,
   "id": "a46a6100",
   "metadata": {},
   "outputs": [
    {
     "data": {
      "text/html": [
       "<div>\n",
       "<style scoped>\n",
       "    .dataframe tbody tr th:only-of-type {\n",
       "        vertical-align: middle;\n",
       "    }\n",
       "\n",
       "    .dataframe tbody tr th {\n",
       "        vertical-align: top;\n",
       "    }\n",
       "\n",
       "    .dataframe thead th {\n",
       "        text-align: right;\n",
       "    }\n",
       "</style>\n",
       "<table border=\"1\" class=\"dataframe\">\n",
       "  <thead>\n",
       "    <tr style=\"text-align: right;\">\n",
       "      <th></th>\n",
       "      <th>GEOID</th>\n",
       "      <th>GEO.display.label</th>\n",
       "      <th>pop</th>\n",
       "      <th>pop.white</th>\n",
       "      <th>pop.not.white</th>\n",
       "      <th>pct.white</th>\n",
       "      <th>pct.not.white</th>\n",
       "      <th>interaction_index</th>\n",
       "    </tr>\n",
       "  </thead>\n",
       "  <tbody>\n",
       "    <tr>\n",
       "      <th>0</th>\n",
       "      <td>17031010201</td>\n",
       "      <td>17031010201</td>\n",
       "      <td>6450</td>\n",
       "      <td>2312</td>\n",
       "      <td>4138</td>\n",
       "      <td>0.358450</td>\n",
       "      <td>0.641550</td>\n",
       "      <td>0.000695</td>\n",
       "    </tr>\n",
       "    <tr>\n",
       "      <th>1</th>\n",
       "      <td>17031010202</td>\n",
       "      <td>17031010202</td>\n",
       "      <td>2818</td>\n",
       "      <td>1237</td>\n",
       "      <td>1581</td>\n",
       "      <td>0.438964</td>\n",
       "      <td>0.561036</td>\n",
       "      <td>0.000325</td>\n",
       "    </tr>\n",
       "    <tr>\n",
       "      <th>2</th>\n",
       "      <td>17031010300</td>\n",
       "      <td>17031010300</td>\n",
       "      <td>6236</td>\n",
       "      <td>3267</td>\n",
       "      <td>2969</td>\n",
       "      <td>0.523894</td>\n",
       "      <td>0.476106</td>\n",
       "      <td>0.000729</td>\n",
       "    </tr>\n",
       "    <tr>\n",
       "      <th>3</th>\n",
       "      <td>17031010400</td>\n",
       "      <td>17031010400</td>\n",
       "      <td>5042</td>\n",
       "      <td>3341</td>\n",
       "      <td>1701</td>\n",
       "      <td>0.662634</td>\n",
       "      <td>0.337366</td>\n",
       "      <td>0.000528</td>\n",
       "    </tr>\n",
       "    <tr>\n",
       "      <th>4</th>\n",
       "      <td>17031010503</td>\n",
       "      <td>17031010503</td>\n",
       "      <td>2290</td>\n",
       "      <td>1452</td>\n",
       "      <td>838</td>\n",
       "      <td>0.634061</td>\n",
       "      <td>0.365939</td>\n",
       "      <td>0.000249</td>\n",
       "    </tr>\n",
       "  </tbody>\n",
       "</table>\n",
       "</div>"
      ],
      "text/plain": [
       "         GEOID  GEO.display.label   pop  pop.white  pop.not.white  pct.white  \\\n",
       "0  17031010201        17031010201  6450       2312           4138   0.358450   \n",
       "1  17031010202        17031010202  2818       1237           1581   0.438964   \n",
       "2  17031010300        17031010300  6236       3267           2969   0.523894   \n",
       "3  17031010400        17031010400  5042       3341           1701   0.662634   \n",
       "4  17031010503        17031010503  2290       1452            838   0.634061   \n",
       "\n",
       "   pct.not.white  interaction_index  \n",
       "0       0.641550           0.000695  \n",
       "1       0.561036           0.000325  \n",
       "2       0.476106           0.000729  \n",
       "3       0.337366           0.000528  \n",
       "4       0.365939           0.000249  "
      ]
     },
     "execution_count": 11,
     "metadata": {},
     "output_type": "execute_result"
    }
   ],
   "source": [
    "# Calculating the total minority population\n",
    "total_minority_pop=chicago_df[\"pop.not.white\"].sum()\n",
    "#Calculating the interaction index for each sub neighbourhood/sub tract\n",
    "chicago_df[\"interaction_index\"]=(chicago_df[\"pop.not.white\"]/total_minority_pop)*(chicago_df[\"pop.white\"]/chicago_df[\"pop\"])\n",
    "                                                                                            \n",
    "chicago_df.head(5)"
   ]
  },
  {
   "cell_type": "code",
   "execution_count": 12,
   "id": "303938af",
   "metadata": {},
   "outputs": [
    {
     "data": {
      "text/plain": [
       "0.33621530101878605"
      ]
     },
     "execution_count": 12,
     "metadata": {},
     "output_type": "execute_result"
    }
   ],
   "source": [
    "#Calculating the interaction index for chicago(sum of the interaction index column)\n",
    "interaction_index_of_chicago=chicago_df[\"interaction_index\"].sum()\n",
    "interaction_index_of_chicago"
   ]
  },
  {
   "cell_type": "markdown",
   "id": "bc8d851e",
   "metadata": {},
   "source": [
    "# Calculate the interaction index for all US Cities"
   ]
  },
  {
   "cell_type": "code",
   "execution_count": 13,
   "id": "62aeb929",
   "metadata": {},
   "outputs": [],
   "source": [
    "import os"
   ]
  },
  {
   "cell_type": "code",
   "execution_count": 15,
   "id": "208a9163",
   "metadata": {},
   "outputs": [
    {
     "data": {
      "text/plain": [
       "['ok_city_race.csv',\n",
       " 'denver_race.csv',\n",
       " 'pittsburgh_race.csv',\n",
       " 'syracuse_race.csv',\n",
       " 'columbus_race.csv',\n",
       " 'kc_race.csv',\n",
       " 'milwaukee_race.csv',\n",
       " 'wichita_race.csv',\n",
       " 'memphis_race.csv',\n",
       " 'st_louis_race.csv',\n",
       " 'baltimore_race.csv',\n",
       " 'charleston_race.csv',\n",
       " 'dayton_race.csv',\n",
       " 'chicago_race.csv']"
      ]
     },
     "execution_count": 15,
     "metadata": {},
     "output_type": "execute_result"
    }
   ],
   "source": [
    "city_file_name_list=os.listdir(\"data/prepped/\")\n",
    "city_file_name_list"
   ]
  },
  {
   "cell_type": "code",
   "execution_count": 23,
   "id": "d4414114",
   "metadata": {},
   "outputs": [],
   "source": [
    "def print_interaction_indexes():\n",
    "    #Getting a list of all the city file names\n",
    "    city_file_name_list=os.listdir(\"data/prepped/\")\n",
    "    #For Loop\n",
    "    # For each city file\n",
    "    for city_file_name in city_file_name_list:\n",
    "        #Import the city data\n",
    "        city_df=pd.read_csv(\"data/prepped/\"+city_file_name)\n",
    "        # Calculating the total minority population\n",
    "        total_minority_pop=chicago_df[\"pop.not.white\"].sum()\n",
    "        #Calculating the interaction index for each sub neighbourhood/sub tract\n",
    "        city_df[\"interaction_index\"]=(city_df[\"pop.not.white\"]/total_minority_pop)*(city_df[\"pop.white\"]/city_df[\"pop\"])\n",
    "        #Calculating the interaction index for chicago(sum of the interaction index column)\n",
    "        interaction_index_of_chicago=city_df[\"interaction_index\"].sum()\n",
    "        #Print out the interaction index for the city\n",
    "        #Bonus(5 points):Get rid of _race.csv and make the first letter capital\n",
    "        # Hint: use string functions\n",
    "        \n",
    "        print(city_file_name.replace(\"race.csv\",\"\").title(),\": \",interaction_index_of_chicago)\n",
    "            \n",
    "        \n",
    "    "
   ]
  },
  {
   "cell_type": "code",
   "execution_count": 24,
   "id": "c9969786",
   "metadata": {},
   "outputs": [
    {
     "name": "stdout",
     "output_type": "stream",
     "text": [
      "Ok_City_ :  0.10122606385428407\n",
      "Denver_ :  0.19558281757835597\n",
      "Pittsburgh_ :  0.07504269251620427\n",
      "Syracuse_ :  0.028713502037955446\n",
      "Columbus_ :  0.09748767915394775\n",
      "Kc_ :  0.12589072014503302\n",
      "Milwaukee_ :  0.08438208030916368\n",
      "Wichita_ :  0.03667580609138098\n",
      "Memphis_ :  0.29170054708115506\n",
      "St_Louis_ :  0.12920314966767957\n",
      "Baltimore_ :  0.013359092544132627\n",
      "Charleston_ :  0.37206746817570885\n",
      "Dayton_ :  0.04202063985716865\n",
      "Chicago_ :  0.33621530101878605\n"
     ]
    }
   ],
   "source": [
    "print_interaction_indexes()"
   ]
  },
  {
   "cell_type": "code",
   "execution_count": null,
   "id": "426fe905",
   "metadata": {},
   "outputs": [],
   "source": []
  }
 ],
 "metadata": {
  "kernelspec": {
   "display_name": "Python 3",
   "language": "python",
   "name": "python3"
  },
  "language_info": {
   "codemirror_mode": {
    "name": "ipython",
    "version": 3
   },
   "file_extension": ".py",
   "mimetype": "text/x-python",
   "name": "python",
   "nbconvert_exporter": "python",
   "pygments_lexer": "ipython3",
   "version": "3.8.8"
  }
 },
 "nbformat": 4,
 "nbformat_minor": 5
}
