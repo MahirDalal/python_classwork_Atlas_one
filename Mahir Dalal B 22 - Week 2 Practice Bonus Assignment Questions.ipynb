{
 "cells": [
  {
   "cell_type": "markdown",
   "metadata": {},
   "source": [
    "# Week 2 Practice Bonus Assignment Solution (30 Marks)\n",
    "**Please upload your work onto Github and submit a link to your Github repository on Google Classroom.**"
   ]
  },
  {
   "cell_type": "markdown",
   "metadata": {},
   "source": [
    "## Student Details\n",
    "\n",
    "- **Name:** Mahir Dalal\n",
    "- **Division:** B \n",
    "- **Roll Number:** 22\n",
    "- **How many hours did it take you to complete this assignment? 1\n",
    "- **Any other comments?** "
   ]
  },
  {
   "cell_type": "markdown",
   "metadata": {},
   "source": [
    "**This assignment will cover the following concepts taught in class:**\n",
    "\n",
    "- Lists / 5 marks\n",
    "- Dictionaries / 5 marks\n",
    "- String Functions / 5 marks\n",
    "- Functions / 15 marks"
   ]
  },
  {
   "cell_type": "markdown",
   "metadata": {},
   "source": [
    "## Lists (5 Marks)"
   ]
  },
  {
   "cell_type": "code",
   "execution_count": 1,
   "metadata": {},
   "outputs": [
    {
     "data": {
      "text/plain": [
       "['sprite', 'coke']"
      ]
     },
     "execution_count": 1,
     "metadata": {},
     "output_type": "execute_result"
    }
   ],
   "source": [
    "# Q1 Create a list that contains 2 of your favorite soft drinks and print this list\n",
    "favourite_drink = [\"sprite\",\"coke\"]\n",
    "favourite_drink \n"
   ]
  },
  {
   "cell_type": "code",
   "execution_count": 2,
   "metadata": {},
   "outputs": [
    {
     "data": {
      "text/plain": [
       "['sprite', 'coke', 'pepsi', '7up', 'fanta']"
      ]
     },
     "execution_count": 2,
     "metadata": {},
     "output_type": "execute_result"
    }
   ],
   "source": [
    "# Q2 Add 3 more drinks to this list and print this list\n",
    "favourite_drink.append(\"pepsi\")\n",
    "favourite_drink.append(\"7up\")\n",
    "favourite_drink.append(\"fanta\")\n",
    "favourite_drink "
   ]
  },
  {
   "cell_type": "code",
   "execution_count": 3,
   "metadata": {},
   "outputs": [
    {
     "data": {
      "text/plain": [
       "5"
      ]
     },
     "execution_count": 3,
     "metadata": {},
     "output_type": "execute_result"
    }
   ],
   "source": [
    "# Q3 Create and Print a variable that stores the number of values your list of favorite soft drinks has\n",
    "length_of_list = len(favourite_drink)\n",
    "length_of_list "
   ]
  },
  {
   "cell_type": "code",
   "execution_count": 4,
   "metadata": {},
   "outputs": [
    {
     "data": {
      "text/plain": [
       "'7up'"
      ]
     },
     "execution_count": 4,
     "metadata": {},
     "output_type": "execute_result"
    }
   ],
   "source": [
    "# Q4 Print the second last value in your list of favorite soft drinks\n",
    "favourite_drink[3] "
   ]
  },
  {
   "cell_type": "code",
   "execution_count": 5,
   "metadata": {},
   "outputs": [
    {
     "data": {
      "text/plain": [
       "'7up'"
      ]
     },
     "execution_count": 5,
     "metadata": {},
     "output_type": "execute_result"
    }
   ],
   "source": [
    "# Q4 Alternate Answer\n",
    "favourite_drink[-2] "
   ]
  },
  {
   "cell_type": "code",
   "execution_count": 6,
   "metadata": {},
   "outputs": [
    {
     "data": {
      "text/plain": [
       "['sprite', 'coke', 'Big Cola', '7up', 'fanta']"
      ]
     },
     "execution_count": 6,
     "metadata": {},
     "output_type": "execute_result"
    }
   ],
   "source": [
    "# Q5 Change the value of the second index to \"Big Cola\" and print your list of favorite soft drinks\n",
    "favourite_drink[2] = \"Big Cola\"\n",
    "favourite_drink "
   ]
  },
  {
   "cell_type": "markdown",
   "metadata": {},
   "source": [
    "## Dictionaries (5 Marks)"
   ]
  },
  {
   "cell_type": "code",
   "execution_count": 7,
   "metadata": {},
   "outputs": [],
   "source": [
    "# Q1 Create and print a dictionary called \"my favorites\" that that contains 2 keys that represent \n",
    "# lists of your favorite movies and favorite foods\n",
    "my_favorites = {\"Movies\" : [\"3 idiots\", \"dhoom\"],\n",
    "                \"Foods\" : [\"pasta\",\"sandwhich\",\"lays\"] }\n"
   ]
  },
  {
   "cell_type": "code",
   "execution_count": 8,
   "metadata": {},
   "outputs": [
    {
     "data": {
      "text/plain": [
       "{'Movies': ['3 idiots', 'dhoom'],\n",
       " 'Foods': ['pasta', 'sandwhich', 'lays'],\n",
       " 'Drinks': ['sprite', 'coke', 'pepsi']}"
      ]
     },
     "execution_count": 8,
     "metadata": {},
     "output_type": "execute_result"
    }
   ],
   "source": [
    "# Q2 Add another key called \"Drinks\" to the \"my_favorites\" dictionary that is a list of your favorite drinks. \n",
    "my_favorites = {\"Movies\" : [\"3 idiots\", \"dhoom\"],\n",
    "                \"Foods\" : [\"pasta\",\"sandwhich\",\"lays\"], \n",
    "                \"Drinks\": [\"sprite\", \"coke\", \"pepsi\"] }\n",
    "\n",
    "# Please print your \"my_favorites\" dictionary after\n",
    "my_favorites   "
   ]
  },
  {
   "cell_type": "code",
   "execution_count": 9,
   "metadata": {},
   "outputs": [
    {
     "data": {
      "text/plain": [
       "{'Movies': ['3 idiots', 'dhoom'],\n",
       " 'Foods': ['pasta', 'sandwhich', 'lays', 'pizza'],\n",
       " 'Drinks': ['sprite', 'coke', 'pepsi']}"
      ]
     },
     "execution_count": 9,
     "metadata": {},
     "output_type": "execute_result"
    }
   ],
   "source": [
    "# Q3 Add another favorite food to list of favorite foods list in the \"my_favorites\" dictionary\n",
    "my_favorites[\"Foods\"].append(\"pizza\")\n",
    "\n",
    "# Please print your \"my_favorite\" dictionary\n",
    "my_favorites "
   ]
  },
  {
   "cell_type": "code",
   "execution_count": 10,
   "metadata": {},
   "outputs": [
    {
     "data": {
      "text/plain": [
       "['3 idiots', 'dhoom']"
      ]
     },
     "execution_count": 10,
     "metadata": {},
     "output_type": "execute_result"
    }
   ],
   "source": [
    "# Q4 Print the value for your favorite movies from the \"my_favorites\" dictionary\n",
    "my_favorites[\"Movies\"]\n",
    "\n",
    "\n"
   ]
  },
  {
   "cell_type": "code",
   "execution_count": 11,
   "metadata": {},
   "outputs": [
    {
     "data": {
      "text/plain": [
       "3"
      ]
     },
     "execution_count": 11,
     "metadata": {},
     "output_type": "execute_result"
    }
   ],
   "source": [
    "# Q5A Print the total keys in your \"my_favorites\" dictionary \n",
    "list_of_dictinary = len(my_favorites)\n",
    "list_of_dictinary  "
   ]
  },
  {
   "cell_type": "code",
   "execution_count": 12,
   "metadata": {},
   "outputs": [
    {
     "name": "stdout",
     "output_type": "stream",
     "text": [
      "9\n"
     ]
    }
   ],
   "source": [
    "# Q5B Print the total values for each key in your \"my_favorites\" dictionary\n",
    "def main():\n",
    "   my_favorites  = {'Movies': ['3 idiots', 'dhoom'],\n",
    " 'Foods': ['pasta', 'sandwhich', 'lays', 'pizza'],\n",
    " 'Drinks': ['sprite', 'coke', 'pepsi']}\n",
    "ctr = sum(map(len, my_favorites.values()))\n",
    "print(ctr)  "
   ]
  },
  {
   "cell_type": "markdown",
   "metadata": {},
   "source": [
    "## String Functions (5 Marks) \n",
    "\n",
    "[Reference Library](https://www.w3schools.com/python/ref_string_replace.asp)"
   ]
  },
  {
   "cell_type": "code",
   "execution_count": 13,
   "metadata": {},
   "outputs": [
    {
     "data": {
      "text/plain": [
       "'krish, jadoo'"
      ]
     },
     "execution_count": 13,
     "metadata": {},
     "output_type": "execute_result"
    }
   ],
   "source": [
    "# Q1 Create a string called \"random_characters\" and enter random characters into it (e.g \"sadasdsa\"). \n",
    "random_characters = str(\"krish, jadoo\")\n",
    "\n",
    "# Print if all characters in random_characters are lowercase\n",
    "random_characters   "
   ]
  },
  {
   "cell_type": "code",
   "execution_count": 14,
   "metadata": {},
   "outputs": [
    {
     "data": {
      "text/plain": [
       "'hulk, jadoo'"
      ]
     },
     "execution_count": 14,
     "metadata": {},
     "output_type": "execute_result"
    }
   ],
   "source": [
    "# Q2 Replace any one character in \"random_characters\" with \"hello\". Print the result \n",
    "random_characters.replace(\"krish\",\"hulk\") "
   ]
  },
  {
   "cell_type": "code",
   "execution_count": 15,
   "metadata": {},
   "outputs": [
    {
     "data": {
      "text/plain": [
       "'KRISH, JADOO'"
      ]
     },
     "execution_count": 15,
     "metadata": {},
     "output_type": "execute_result"
    }
   ],
   "source": [
    "# Q3 Convert \"random_characters\" to all upper case letters\n",
    "random_characters.upper() "
   ]
  },
  {
   "cell_type": "code",
   "execution_count": 16,
   "metadata": {},
   "outputs": [
    {
     "data": {
      "text/plain": [
       "['Hum Tum', 'Kal Ho Na Ho', 'Dhoom 2']"
      ]
     },
     "execution_count": 16,
     "metadata": {},
     "output_type": "execute_result"
    }
   ],
   "source": [
    "# Q4 \n",
    "# Create a string called \"my_favorite_movies\" with the following value: \"Hum Tum, Kal Ho Na Ho, Dhoom 2\". \n",
    "my_favorite_movies = str(\"Hum Tum, Kal Ho Na Ho, Dhoom 2\")\n",
    "\n",
    "# Now convert \"my_favorite_movies\" into a list structured like this [\"Hum Tum\", \"Kal Ho Na Ho\", \"Dhoom 2\"]\n",
    "my_favorite_movies = [\"Hum Tum\", \"Kal Ho Na Ho\", \"Dhoom 2\"]\n",
    "\n",
    "# Print \"my_favorite_movies\"\n",
    "my_favorite_movies "
   ]
  },
  {
   "cell_type": "markdown",
   "metadata": {},
   "source": [
    "## Functions (15 Marks / 3 marks for each question)\n",
    "**PLEASE NOTE THIS IS A BONUS POINT ASSIGNMENT. NOT ALL QUESTIONS ARE GOING TO BE EASY. IT'S CALLED BONUS FOR A REASON.** Please refer to the [Textbook](info370a-w19.github.io/python-basics/)"
   ]
  },
  {
   "cell_type": "markdown",
   "metadata": {},
   "source": [
    "### Q1) Create a function called is_greater that: \n",
    "- Accepts 2 numbers\n",
    "- Returns a boolean value that indicates if variable 1 is greater than variable 2\n",
    "- Please create and print a variable that uses this function"
   ]
  },
  {
   "cell_type": "code",
   "execution_count": 17,
   "metadata": {},
   "outputs": [],
   "source": [
    "# Write your function here\n",
    "def is_greater_that (num1,num2):\n",
    "    return num1>num2 \n"
   ]
  },
  {
   "cell_type": "code",
   "execution_count": 18,
   "metadata": {},
   "outputs": [
    {
     "data": {
      "text/plain": [
       "True"
      ]
     },
     "execution_count": 18,
     "metadata": {},
     "output_type": "execute_result"
    }
   ],
   "source": [
    "# Create and print a variable that uses this function\n",
    "is_greater_that (9,8)  "
   ]
  },
  {
   "cell_type": "markdown",
   "metadata": {},
   "source": [
    "### Q2) Create a function total_list_length\n",
    "- Accepts 2 lists\n",
    "- Calculate the length of each of the two lists\n",
    "- Returns the length of the combined lists\n",
    "- Please create and print a variable that uses this function"
   ]
  },
  {
   "cell_type": "code",
   "execution_count": 19,
   "metadata": {},
   "outputs": [],
   "source": [
    "# Write your function here\n",
    "def total_list_lenght (words1, words2):\n",
    "    total = len(words1) + len(words2)\n",
    "    return total   "
   ]
  },
  {
   "cell_type": "code",
   "execution_count": 20,
   "metadata": {},
   "outputs": [],
   "source": [
    "# Create and print a variable that uses this function\n",
    "words1 = [\"hi\",\"hey\",\"bye\"]\n",
    "words2 = [\"good\",\"bad\",\"worse\"]  "
   ]
  },
  {
   "cell_type": "code",
   "execution_count": 21,
   "metadata": {},
   "outputs": [
    {
     "data": {
      "text/plain": [
       "6"
      ]
     },
     "execution_count": 21,
     "metadata": {},
     "output_type": "execute_result"
    }
   ],
   "source": [
    "total_list_lenght (words1, words2) "
   ]
  },
  {
   "cell_type": "markdown",
   "metadata": {},
   "source": [
    "### Q3) Create a function called contains_titanic that: \n",
    "- Accepts a list of movies \n",
    "- Returns \"Titanic exists\" If it is present in the list \n",
    "- Returns \"Titanic Does not exist\"if it is not present in the list\n",
    "- Please create and print a variable that uses this function "
   ]
  },
  {
   "cell_type": "code",
   "execution_count": 22,
   "metadata": {},
   "outputs": [],
   "source": [
    "# Write your function here\n",
    "def contains_titanic (movies):\n",
    "    for word in words:\n",
    "        if word == \"titanic\":\n",
    "            return \"titanic exists\"\n",
    "        else:\n",
    "            return \"titanic does not exist\" "
   ]
  },
  {
   "cell_type": "code",
   "execution_count": 23,
   "metadata": {},
   "outputs": [],
   "source": [
    "# Create and print a variable that uses this function\n",
    "movies = [\"titan\",\"kgf\"]    "
   ]
  },
  {
   "cell_type": "code",
   "execution_count": 24,
   "metadata": {},
   "outputs": [
    {
     "ename": "NameError",
     "evalue": "name 'words' is not defined",
     "output_type": "error",
     "traceback": [
      "\u001b[1;31m---------------------------------------------------------------------------\u001b[0m",
      "\u001b[1;31mNameError\u001b[0m                                 Traceback (most recent call last)",
      "\u001b[1;32m<ipython-input-24-9ef08486f1f2>\u001b[0m in \u001b[0;36m<module>\u001b[1;34m\u001b[0m\n\u001b[1;32m----> 1\u001b[1;33m \u001b[0mcontains_titanic\u001b[0m \u001b[1;33m(\u001b[0m\u001b[0mmovies\u001b[0m\u001b[1;33m)\u001b[0m\u001b[1;33m\u001b[0m\u001b[1;33m\u001b[0m\u001b[0m\n\u001b[0m",
      "\u001b[1;32m<ipython-input-22-0d3a59bb3b97>\u001b[0m in \u001b[0;36mcontains_titanic\u001b[1;34m(movies)\u001b[0m\n\u001b[0;32m      1\u001b[0m \u001b[1;31m# Write your function here\u001b[0m\u001b[1;33m\u001b[0m\u001b[1;33m\u001b[0m\u001b[1;33m\u001b[0m\u001b[0m\n\u001b[0;32m      2\u001b[0m \u001b[1;32mdef\u001b[0m \u001b[0mcontains_titanic\u001b[0m \u001b[1;33m(\u001b[0m\u001b[0mmovies\u001b[0m\u001b[1;33m)\u001b[0m\u001b[1;33m:\u001b[0m\u001b[1;33m\u001b[0m\u001b[1;33m\u001b[0m\u001b[0m\n\u001b[1;32m----> 3\u001b[1;33m     \u001b[1;32mfor\u001b[0m \u001b[0mword\u001b[0m \u001b[1;32min\u001b[0m \u001b[0mwords\u001b[0m\u001b[1;33m:\u001b[0m\u001b[1;33m\u001b[0m\u001b[1;33m\u001b[0m\u001b[0m\n\u001b[0m\u001b[0;32m      4\u001b[0m         \u001b[1;32mif\u001b[0m \u001b[0mword\u001b[0m \u001b[1;33m==\u001b[0m \u001b[1;34m\"titanic\"\u001b[0m\u001b[1;33m:\u001b[0m\u001b[1;33m\u001b[0m\u001b[1;33m\u001b[0m\u001b[0m\n\u001b[0;32m      5\u001b[0m             \u001b[1;32mreturn\u001b[0m \u001b[1;34m\"titanic exists\"\u001b[0m\u001b[1;33m\u001b[0m\u001b[1;33m\u001b[0m\u001b[0m\n",
      "\u001b[1;31mNameError\u001b[0m: name 'words' is not defined"
     ]
    }
   ],
   "source": [
    "contains_titanic (movies)       "
   ]
  },
  {
   "cell_type": "markdown",
   "metadata": {},
   "source": [
    "### Q4) Create a function called list_average that: \n",
    "\n",
    "- Accepts a list of numbers\n",
    "- Returns the average of the list of numbers\n",
    "- Please create and print a variable that uses this function"
   ]
  },
  {
   "cell_type": "code",
   "execution_count": null,
   "metadata": {},
   "outputs": [],
   "source": [
    "# Write your function here\n",
    "def list_average (numbers):\n",
    "    total = 0\n",
    "    \n",
    "    for number in numbers:\n",
    "        total = total + number\n",
    "        \n",
    "    return total/len(numbers)  \n"
   ]
  },
  {
   "cell_type": "code",
   "execution_count": null,
   "metadata": {},
   "outputs": [],
   "source": [
    "# Create and print a variable that uses this function\n",
    "numbers = [1,4,6,7]\n",
    "list_average (numbers)    "
   ]
  },
  {
   "cell_type": "markdown",
   "metadata": {},
   "source": [
    "### Q5) Create a function called longest_word_in_list that:\n",
    "- Accepts a list of words\n",
    "- Returns the longest string in the list\n",
    "- Please create and print a variable that uses this function"
   ]
  },
  {
   "cell_type": "code",
   "execution_count": null,
   "metadata": {},
   "outputs": [],
   "source": [
    "# Write your function here\n",
    "def longest_word_in_the_list(words):\n",
    "    finalList = []\n",
    "    \n",
    "    for word in words:\n",
    "        finalList.append((len(word), word)) \n",
    "        \n",
    "    finalList.sort()\n",
    "        \n",
    "    print(finalList[-1][1]) "
   ]
  },
  {
   "cell_type": "code",
   "execution_count": null,
   "metadata": {},
   "outputs": [],
   "source": [
    "# Create and print a variable that uses this function\n",
    "words = [\"hey\", \"apple\", \"no\"]\n",
    "longest_word_in_the_list (words)  "
   ]
  }
 ],
 "metadata": {
  "kernelspec": {
   "display_name": "Python 3",
   "language": "python",
   "name": "python3"
  },
  "language_info": {
   "codemirror_mode": {
    "name": "ipython",
    "version": 3
   },
   "file_extension": ".py",
   "mimetype": "text/x-python",
   "name": "python",
   "nbconvert_exporter": "python",
   "pygments_lexer": "ipython3",
   "version": "3.8.8"
  }
 },
 "nbformat": 4,
 "nbformat_minor": 2
}
