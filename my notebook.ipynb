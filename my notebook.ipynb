{
 "cells": [
  {
   "cell_type": "markdown",
   "id": "9c053dae",
   "metadata": {},
   "source": [
    "## Lecture 5 For Loops\n",
    "\n",
    "Mahir Dalal/Div B"
   ]
  },
  {
   "cell_type": "markdown",
   "id": "387ef164",
   "metadata": {},
   "source": [
    "## Q1) Create a list of word and then use a for loop to print each word on a new line"
   ]
  },
  {
   "cell_type": "code",
   "execution_count": 1,
   "id": "e8f7268f",
   "metadata": {},
   "outputs": [
    {
     "data": {
      "text/plain": [
       "['pen', 'pencil', 'paper', 'sharpeber']"
      ]
     },
     "execution_count": 1,
     "metadata": {},
     "output_type": "execute_result"
    }
   ],
   "source": [
    "words = [\"pen\", \"pencil\", \"paper\", \"sharpeber\"]\n",
    "words "
   ]
  },
  {
   "cell_type": "code",
   "execution_count": 2,
   "id": "f33de420",
   "metadata": {},
   "outputs": [
    {
     "name": "stdout",
     "output_type": "stream",
     "text": [
      "pen\n",
      "pencil\n",
      "paper\n",
      "sharpeber\n"
     ]
    }
   ],
   "source": [
    "#For each word in the list of words\n",
    "for word in words:\n",
    "    #Do the following instructions \n",
    "    print(word) "
   ]
  },
  {
   "cell_type": "markdown",
   "id": "acdbf524",
   "metadata": {},
   "source": [
    "## Create a function called word_printer that:\n",
    "\n"
   ]
  },
  {
   "cell_type": "code",
   "execution_count": 3,
   "id": "588d0933",
   "metadata": {},
   "outputs": [],
   "source": [
    "def word_printer(words):\n",
    "    for word in words:\n",
    "        print(word)"
   ]
  },
  {
   "cell_type": "code",
   "execution_count": 4,
   "id": "b5ad4794",
   "metadata": {},
   "outputs": [
    {
     "name": "stdout",
     "output_type": "stream",
     "text": [
      "pen\n",
      "pencil\n",
      "paper\n",
      "sharpeber\n"
     ]
    }
   ],
   "source": [
    "word_printer(words) "
   ]
  },
  {
   "cell_type": "markdown",
   "id": "53d6f4c9",
   "metadata": {},
   "source": [
    "## Q3 Create a function called number_printer that: \n",
    "\n"
   ]
  },
  {
   "cell_type": "code",
   "execution_count": 5,
   "id": "31f15d03",
   "metadata": {},
   "outputs": [
    {
     "data": {
      "text/plain": [
       "['1', '2', '3', '4']"
      ]
     },
     "execution_count": 5,
     "metadata": {},
     "output_type": "execute_result"
    }
   ],
   "source": [
    "numbers = [\"1\", \"2\", \"3\", \"4\"]\n",
    "numbers  "
   ]
  },
  {
   "cell_type": "code",
   "execution_count": 6,
   "id": "d4b62649",
   "metadata": {},
   "outputs": [],
   "source": [
    "def number_printer(numbers):\n",
    "    #For each number in the list of numbers\n",
    "    for number in numbers:\n",
    "                print(numbers)    "
   ]
  },
  {
   "cell_type": "code",
   "execution_count": 7,
   "id": "68373c13",
   "metadata": {},
   "outputs": [
    {
     "name": "stdout",
     "output_type": "stream",
     "text": [
      "['1', '2', '3', '4']\n",
      "['1', '2', '3', '4']\n",
      "['1', '2', '3', '4']\n",
      "['1', '2', '3', '4']\n"
     ]
    }
   ],
   "source": [
    "number_printer(numbers)    "
   ]
  },
  {
   "cell_type": "markdown",
   "id": "5021fe7a",
   "metadata": {},
   "source": [
    "## Q4) Create a function called gold_finder that:\n",
    "\n",
    "- accepts a list of words \n",
    "- returns \"gold is found\" if the word \"gold\" ot \"Gold\" exists in the listes of words\n",
    "- else returns \"Gold is not found\" \n"
   ]
  },
  {
   "cell_type": "code",
   "execution_count": 8,
   "id": "7642c66d",
   "metadata": {},
   "outputs": [],
   "source": [
    "def gold_finder(words):\n",
    "    \n",
    "#CODE FOR THE CHECKING IF GOLD EXISTS\n",
    "##############################################\n",
    "    for word in words: \n",
    "        if word == \"gold\" or word == \"Gold\":\n",
    "            return \"Gold found\"\n",
    "#CODE FOR THE CHECKING IF GOLD DOES NOT EXISTS\n",
    "##################################################\n",
    "    return \"Gold Not Found\"     "
   ]
  },
  {
   "cell_type": "code",
   "execution_count": 9,
   "id": "c775a4ef",
   "metadata": {},
   "outputs": [],
   "source": [
    "metals = [\"copper\", \"zinc\", \"gold\"]   "
   ]
  },
  {
   "cell_type": "code",
   "execution_count": 10,
   "id": "678b5577",
   "metadata": {},
   "outputs": [
    {
     "data": {
      "text/plain": [
       "'Gold found'"
      ]
     },
     "execution_count": 10,
     "metadata": {},
     "output_type": "execute_result"
    }
   ],
   "source": [
    "gold_finder(metals)  "
   ]
  },
  {
   "cell_type": "markdown",
   "id": "f38f893c",
   "metadata": {},
   "source": [
    "## Q5) Create a function called number_finder that: \n",
    "\n",
    "- accepts a list of numbers\n",
    "- returns \"number found\" if the number 7 or 14 exists in the list of numbers \n",
    "- otherwise returns \"number not found\" "
   ]
  },
  {
   "cell_type": "code",
   "execution_count": 11,
   "id": "7febb7a2",
   "metadata": {},
   "outputs": [],
   "source": [
    "def number_finder (numbers):\n",
    "    \n",
    "    for number in numbers: \n",
    "        if number == \"7\" or number == \"14\":\n",
    "             return \"number found\"\n",
    "\n",
    "    return \"number not found\"         "
   ]
  },
  {
   "cell_type": "code",
   "execution_count": 12,
   "id": "86ac8df2",
   "metadata": {},
   "outputs": [],
   "source": [
    "numbers = [7, 14, 17, 19]     "
   ]
  },
  {
   "cell_type": "code",
   "execution_count": 13,
   "id": "68f39bb5",
   "metadata": {},
   "outputs": [
    {
     "data": {
      "text/plain": [
       "'number not found'"
      ]
     },
     "execution_count": 13,
     "metadata": {},
     "output_type": "execute_result"
    }
   ],
   "source": [
    "number_finder(numbers)       "
   ]
  },
  {
   "cell_type": "code",
   "execution_count": 14,
   "id": "9b461f80",
   "metadata": {},
   "outputs": [],
   "source": [
    "def even_number_finder(numbers):\n",
    "    \n",
    "    for number in numbers:\n",
    "        if number%2 == 0:\n",
    "            return \"even number found\"\n",
    "        \n",
    "    return \"even number not found\"    "
   ]
  },
  {
   "cell_type": "code",
   "execution_count": 15,
   "id": "5eaeb6ab",
   "metadata": {},
   "outputs": [],
   "source": [
    "numbers = [2, 5, 7]  "
   ]
  },
  {
   "cell_type": "code",
   "execution_count": 16,
   "id": "e8682418",
   "metadata": {},
   "outputs": [
    {
     "data": {
      "text/plain": [
       "'even number found'"
      ]
     },
     "execution_count": 16,
     "metadata": {},
     "output_type": "execute_result"
    }
   ],
   "source": [
    "even_number_finder(numbers) "
   ]
  },
  {
   "cell_type": "code",
   "execution_count": 17,
   "id": "1201bbe4",
   "metadata": {},
   "outputs": [],
   "source": [
    "def odd_number_finder(numbers):\n",
    "    \n",
    "    for number in numbers:\n",
    "        if number%2 == 1:\n",
    "            return \"odd number found\"\n",
    "        \n",
    "    return \"odd number not found\"     "
   ]
  },
  {
   "cell_type": "code",
   "execution_count": 18,
   "id": "7793e570",
   "metadata": {},
   "outputs": [],
   "source": [
    "numbers = [2,5,7] "
   ]
  },
  {
   "cell_type": "code",
   "execution_count": 19,
   "id": "bf058a5c",
   "metadata": {},
   "outputs": [
    {
     "data": {
      "text/plain": [
       "'odd number found'"
      ]
     },
     "execution_count": 19,
     "metadata": {},
     "output_type": "execute_result"
    }
   ],
   "source": [
    "odd_number_finder(numbers) "
   ]
  },
  {
   "cell_type": "markdown",
   "id": "46c6ef04",
   "metadata": {},
   "source": [
    "## Q7) Write a function called word_finder that: \n",
    "- accepts a target word and a list of words \n",
    "- returns \"target found\" if word exists\n",
    "- retuns \"target not found\" if word does not exist\n",
    "- bonus: replace the word target with the actual target itself\n",
    "- bonus: make the function case sensitive "
   ]
  },
  {
   "cell_type": "code",
   "execution_count": 20,
   "id": "0f78a5f8",
   "metadata": {},
   "outputs": [],
   "source": [
    "def word_finder(target, words):\n",
    "    \n",
    "    for word in words:\n",
    "         if word.upper() == target.upper():\n",
    "                return (target + \" found \")\n",
    "            \n",
    "    return (target + \" not found \")   "
   ]
  },
  {
   "cell_type": "code",
   "execution_count": 21,
   "id": "b2bcae35",
   "metadata": {},
   "outputs": [],
   "source": [
    "words = [\"gold\", \"facebook\",\"wall\"]    "
   ]
  },
  {
   "cell_type": "code",
   "execution_count": 22,
   "id": "91580cc9",
   "metadata": {},
   "outputs": [
    {
     "data": {
      "text/plain": [
       "'Facebook found '"
      ]
     },
     "execution_count": 22,
     "metadata": {},
     "output_type": "execute_result"
    }
   ],
   "source": [
    "word_finder(\"Facebook\", words)     "
   ]
  },
  {
   "cell_type": "code",
   "execution_count": 23,
   "id": "368366f4",
   "metadata": {},
   "outputs": [],
   "source": [
    "# \"facebook\"  ===> \"FACEBOOK\"\n",
    "# \"Facebook\"  ===> \"FACEBOOK\" "
   ]
  },
  {
   "cell_type": "code",
   "execution_count": 24,
   "id": "0c6a97bd",
   "metadata": {},
   "outputs": [],
   "source": [
    "def first_index_of(target, words):\n",
    "    \n",
    "    index = 0\n",
    "    \n",
    "    #checking to see if word exists\n",
    "    for word in words:\n",
    "        if target == word:\n",
    "            return index\n",
    "        else: \n",
    "            index = index + 1\n",
    "            \n",
    "    #if the word does not exist\n",
    "    retun -1  "
   ]
  },
  {
   "cell_type": "code",
   "execution_count": 25,
   "id": "aad549c0",
   "metadata": {},
   "outputs": [],
   "source": [
    "words = [\"watch\", \"pen\", \"paper\", \"bowl\"] "
   ]
  },
  {
   "cell_type": "code",
   "execution_count": 26,
   "id": "a9d02491",
   "metadata": {},
   "outputs": [
    {
     "data": {
      "text/plain": [
       "2"
      ]
     },
     "execution_count": 26,
     "metadata": {},
     "output_type": "execute_result"
    }
   ],
   "source": [
    "first_index_of(\"paper\", words) "
   ]
  },
  {
   "cell_type": "markdown",
   "id": "748d0da7",
   "metadata": {},
   "source": [
    "## Q9) Make a function called word_counter that:\n",
    "- accepts a list of words and a target word\n",
    "- counts how many times the target word appears in the list\n",
    "- returns how many times the target word appears in the list "
   ]
  },
  {
   "cell_type": "code",
   "execution_count": 27,
   "id": "6d4a35c7",
   "metadata": {},
   "outputs": [],
   "source": [
    "def word_counter(target, words):\n",
    "    counter = 0 \n",
    "    for word in words:\n",
    "        if word == target:\n",
    "            counter = counter+1\n",
    "        return counter  "
   ]
  },
  {
   "cell_type": "code",
   "execution_count": 28,
   "id": "9518890e",
   "metadata": {},
   "outputs": [],
   "source": [
    "words = [\"google\", \"mircosoft\", \"amazon\",\"apple\" ]   "
   ]
  },
  {
   "cell_type": "code",
   "execution_count": 29,
   "id": "403a5aaf",
   "metadata": {},
   "outputs": [
    {
     "data": {
      "text/plain": [
       "1"
      ]
     },
     "execution_count": 29,
     "metadata": {},
     "output_type": "execute_result"
    }
   ],
   "source": [
    "word_counter(\"google\", words)        "
   ]
  },
  {
   "cell_type": "markdown",
   "id": "21c76fb0",
   "metadata": {},
   "source": [
    "## Q10)  Make a  function called list_average that: \n",
    "- accepts a list of average\n",
    "- returns the average of those numbers in the list\n",
    "- average = sum of numbers / total number "
   ]
  },
  {
   "cell_type": "code",
   "execution_count": 30,
   "id": "d5fa8634",
   "metadata": {},
   "outputs": [],
   "source": [
    "def list_average(numbers):\n",
    "    total = 0\n",
    "    for number in numbers:\n",
    "        total = total + number\n",
    "    #len(numbers) the total numbers in the list\n",
    "    return total/len(numbers) "
   ]
  },
  {
   "cell_type": "code",
   "execution_count": 31,
   "id": "f22634a6",
   "metadata": {},
   "outputs": [],
   "source": [
    "numbers = [4,5,7,8] "
   ]
  },
  {
   "cell_type": "code",
   "execution_count": 32,
   "id": "70c3d1b3",
   "metadata": {},
   "outputs": [
    {
     "data": {
      "text/plain": [
       "6.0"
      ]
     },
     "execution_count": 32,
     "metadata": {},
     "output_type": "execute_result"
    }
   ],
   "source": [
    "list_average(numbers) "
   ]
  }
 ],
 "metadata": {
  "kernelspec": {
   "display_name": "Python 3",
   "language": "python",
   "name": "python3"
  },
  "language_info": {
   "codemirror_mode": {
    "name": "ipython",
    "version": 3
   },
   "file_extension": ".py",
   "mimetype": "text/x-python",
   "name": "python",
   "nbconvert_exporter": "python",
   "pygments_lexer": "ipython3",
   "version": "3.8.8"
  }
 },
 "nbformat": 4,
 "nbformat_minor": 5
}
