{
 "cells": [
  {
   "cell_type": "markdown",
   "metadata": {},
   "source": [
    "# Getting Started\n",
    "\n",
    "In this exercise, you'll get familiar with the following basics of python:\n",
    "\n",
    "- Creating variables (lists, dictionaries)\n",
    "- Writing functions\n",
    "- List comprehensions"
   ]
  },
  {
   "cell_type": "markdown",
   "metadata": {},
   "source": [
    "# Student Info\n",
    "\n",
    "- Name: Mahir \n",
    "- Age: 18\n",
    "- Occupation: Student\n",
    " \n",
    " *this is mock data*\n",
    " \n",
    " **this is bold data**\n",
    " \n",
    " ***this is bold and italics data***\n",
    "\n"
   ]
  },
  {
   "cell_type": "markdown",
   "metadata": {},
   "source": [
    "# Basic variables\n",
    "Variables in python are loosely typed, so you can quickly create numeric, character, or boolean values. Variable names should be expressive, and be written as lower-case words that are underscore separated (i.e., `variable_name`)"
   ]
  },
  {
   "cell_type": "code",
   "execution_count": 1,
   "metadata": {},
   "outputs": [
    {
     "data": {
      "text/plain": [
       "'Mahir Dalal'"
      ]
     },
     "execution_count": 1,
     "metadata": {},
     "output_type": "execute_result"
    }
   ],
   "source": [
    "# My name \n",
    "my_name = \"Mahir Dalal\"\n",
    "my_name"
   ]
  },
  {
   "cell_type": "code",
   "execution_count": 2,
   "metadata": {},
   "outputs": [
    {
     "data": {
      "text/plain": [
       "18"
      ]
     },
     "execution_count": 2,
     "metadata": {},
     "output_type": "execute_result"
    }
   ],
   "source": [
    "# My Age\n",
    "my_age = 18\n",
    "my_age"
   ]
  },
  {
   "cell_type": "code",
   "execution_count": 3,
   "metadata": {
    "scrolled": true
   },
   "outputs": [
    {
     "data": {
      "text/plain": [
       "48"
      ]
     },
     "execution_count": 3,
     "metadata": {},
     "output_type": "execute_result"
    }
   ],
   "source": [
    "# Mother's Age\n",
    "mothers_age = 48\n",
    "mothers_age "
   ]
  },
  {
   "cell_type": "code",
   "execution_count": 4,
   "metadata": {},
   "outputs": [
    {
     "data": {
      "text/plain": [
       "49"
      ]
     },
     "execution_count": 4,
     "metadata": {},
     "output_type": "execute_result"
    }
   ],
   "source": [
    "# Father's Age\n",
    "fathers_age = 49\n",
    "fathers_age "
   ]
  },
  {
   "cell_type": "code",
   "execution_count": 5,
   "metadata": {
    "scrolled": false
   },
   "outputs": [
    {
     "name": "stdout",
     "output_type": "stream",
     "text": [
      "My age: 18\n",
      "My mother's age: 48\n",
      "My father's age: 49\n"
     ]
    }
   ],
   "source": [
    "print(\"My age:\", my_age)\n",
    "print(\"My mother's age:\", mothers_age)\n",
    "print(\"My father's age:\", fathers_age)\n"
   ]
  },
  {
   "cell_type": "code",
   "execution_count": 6,
   "metadata": {},
   "outputs": [
    {
     "data": {
      "text/plain": [
       "False"
      ]
     },
     "execution_count": 6,
     "metadata": {},
     "output_type": "execute_result"
    }
   ],
   "source": [
    "#Is mother elder than father\n",
    "is_mother_elder_to_father = mothers_age>fathers_age\n",
    "is_mother_elder_to_father "
   ]
  },
  {
   "cell_type": "code",
   "execution_count": 7,
   "metadata": {},
   "outputs": [
    {
     "data": {
      "text/plain": [
       "38.333333333333336"
      ]
     },
     "execution_count": 7,
     "metadata": {},
     "output_type": "execute_result"
    }
   ],
   "source": [
    "#Family's Average Age\n",
    "family_average_age = (my_age+mothers_age+fathers_age)/3\n",
    "family_average_age "
   ]
  },
  {
   "cell_type": "code",
   "execution_count": 8,
   "metadata": {},
   "outputs": [
    {
     "data": {
      "text/plain": [
       "\"My family's average age is \""
      ]
     },
     "execution_count": 8,
     "metadata": {},
     "output_type": "execute_result"
    }
   ],
   "source": [
    "#Starting Phrase\n",
    "starting_phrase = \"My family's average age is \"\n",
    "starting_phrase "
   ]
  },
  {
   "cell_type": "code",
   "execution_count": 9,
   "metadata": {},
   "outputs": [
    {
     "data": {
      "text/plain": [
       "\"My family's average age is 38.333333333333336\""
      ]
     },
     "execution_count": 9,
     "metadata": {},
     "output_type": "execute_result"
    }
   ],
   "source": [
    "#Sentance\n",
    "sentance = starting_phrase+str(family_average_age)\n",
    "sentance "
   ]
  },
  {
   "cell_type": "code",
   "execution_count": 10,
   "metadata": {},
   "outputs": [
    {
     "data": {
      "text/plain": [
       "604800"
      ]
     },
     "execution_count": 10,
     "metadata": {},
     "output_type": "execute_result"
    }
   ],
   "source": [
    "#How many seconds are in a week\n",
    "seconds_in_a_week = 604800 \n",
    "seconds_in_a_week \n"
   ]
  },
  {
   "cell_type": "code",
   "execution_count": 11,
   "metadata": {},
   "outputs": [
    {
     "data": {
      "text/plain": [
       "' seconds are in a week '"
      ]
     },
     "execution_count": 11,
     "metadata": {},
     "output_type": "execute_result"
    }
   ],
   "source": [
    "#Ending Phrase\n",
    "ending_phrase = \" seconds are in a week \"\n",
    "ending_phrase "
   ]
  },
  {
   "cell_type": "code",
   "execution_count": 12,
   "metadata": {},
   "outputs": [
    {
     "data": {
      "text/plain": [
       "'604800 seconds are in a week '"
      ]
     },
     "execution_count": 12,
     "metadata": {},
     "output_type": "execute_result"
    }
   ],
   "source": [
    "#Sentance\n",
    "sentance = str(seconds_in_a_week)+ending_phrase\n",
    "sentance "
   ]
  },
  {
   "cell_type": "code",
   "execution_count": 13,
   "metadata": {},
   "outputs": [
    {
     "data": {
      "text/plain": [
       "'8760 hours'"
      ]
     },
     "execution_count": 13,
     "metadata": {},
     "output_type": "execute_result"
    }
   ],
   "source": [
    "# Create a numeric variable `hours_in_a_year` equal to the number of hours in a year\n",
    "\n",
    "# A normal year has 365 days and one day has 24 hours\n",
    "days_in_a_year = 365\n",
    "hours_in_a_day = 24\n",
    "hours_in_a_year = str((days_in_a_year*hours_in_a_day)) + \" hours\"\n",
    "hours_in_a_year"
   ]
  },
  {
   "cell_type": "code",
   "execution_count": 14,
   "metadata": {},
   "outputs": [
    {
     "data": {
      "text/plain": [
       "'86400 seconds'"
      ]
     },
     "execution_count": 14,
     "metadata": {},
     "output_type": "execute_result"
    }
   ],
   "source": [
    "# Create a numeric variable `seconds_in_a_day` equal to the number of seconds in a day\n",
    "\n",
    "# One day has 24 hours \n",
    "# One hour has 60 minutes \n",
    "# One minute has 60 seconds\n",
    "seconds_in_a_day = str((24 * 60 * 60)) + \" seconds\"\n",
    "seconds_in_a_day"
   ]
  },
  {
   "cell_type": "code",
   "execution_count": 15,
   "metadata": {},
   "outputs": [
    {
     "data": {
      "text/plain": [
       "False"
      ]
     },
     "execution_count": 15,
     "metadata": {},
     "output_type": "execute_result"
    }
   ],
   "source": [
    "# Create a boolean variable `more_seconds_than_hours` that is true \n",
    "# if there are more seconds in a day than hours in a year\n",
    "more_seconds_than_hours = seconds_in_a_day > hours_in_a_year \n",
    "more_seconds_than_hours"
   ]
  },
  {
   "cell_type": "code",
   "execution_count": 16,
   "metadata": {},
   "outputs": [
    {
     "name": "stdout",
     "output_type": "stream",
     "text": [
      "8760 hours\n",
      "86400 seconds\n",
      "False\n"
     ]
    }
   ],
   "source": [
    "# Print out all 3 of your variables\n",
    "print(hours_in_a_year)\n",
    "print(seconds_in_a_day)\n",
    "print(more_seconds_than_hours)\n"
   ]
  },
  {
   "cell_type": "code",
   "execution_count": 17,
   "metadata": {},
   "outputs": [
    {
     "name": "stdout",
     "output_type": "stream",
     "text": [
      "I just learned that there are 8760 hourshours in a year, and 86400 seconds seconds in a day\n"
     ]
    }
   ],
   "source": [
    "# Create and print a character variable `learned` that holds the string:\n",
    "# \"I just learned that there are X hours in a year, and Y seconds in a day\"\n",
    "# Replace X and Y with the values from above\n",
    "\n",
    "learned = \"I just learned that there are \" +  hours_in_a_year + \"hours in a year, and \" + seconds_in_a_day + \" seconds in a day\"\n",
    "print(learned)\n"
   ]
  },
  {
   "cell_type": "markdown",
   "metadata": {},
   "source": [
    " Lists and Dictionaries\n",
    "\n",
    "Lists\n",
    "A **list** is a mutable, ordered sequence of values that are all stored in a single variable. You can create a list of elements by placing comma separated values inside of square brackets. Note, elements may be of different types.\n"
   ]
  },
  {
   "cell_type": "code",
   "execution_count": 18,
   "metadata": {},
   "outputs": [
    {
     "data": {
      "text/plain": [
       "['Sidh', 'Vir', 'Vedant']"
      ]
     },
     "execution_count": 18,
     "metadata": {},
     "output_type": "execute_result"
    }
   ],
   "source": [
    "#Creating a list of 4 friends\n",
    "friends_at_isme = [\"Sidh\", \"Vir\", \"Vedant\"] \n",
    "friends_at_isme "
   ]
  },
  {
   "cell_type": "code",
   "execution_count": 19,
   "metadata": {},
   "outputs": [
    {
     "data": {
      "text/plain": [
       "'Vir'"
      ]
     },
     "execution_count": 19,
     "metadata": {},
     "output_type": "execute_result"
    }
   ],
   "source": [
    "#Accessing the value at index 2 in the list of friends\n",
    "friends_at_isme[1]\n",
    " "
   ]
  },
  {
   "cell_type": "code",
   "execution_count": 20,
   "metadata": {},
   "outputs": [
    {
     "data": {
      "text/plain": [
       "['Sidh', 'Vir', 'Vedant', 'sanyam']"
      ]
     },
     "execution_count": 20,
     "metadata": {},
     "output_type": "execute_result"
    }
   ],
   "source": [
    "#Adding a value to the list of friends\n",
    "friends_at_isme.append(\"sanyam\")\n",
    "friends_at_isme  "
   ]
  },
  {
   "cell_type": "code",
   "execution_count": 21,
   "metadata": {},
   "outputs": [
    {
     "data": {
      "text/plain": [
       "['Utsav', 'Varun', 'Subair']"
      ]
     },
     "execution_count": 21,
     "metadata": {},
     "output_type": "execute_result"
    }
   ],
   "source": [
    "# Create a list `friends` that has a list of 3 of your friends' names in it\n",
    "\n",
    "friends = [\"Utsav\", \"Varun\", \"Subair\"]\n",
    "friends"
   ]
  },
  {
   "cell_type": "code",
   "execution_count": 22,
   "metadata": {},
   "outputs": [
    {
     "data": {
      "text/plain": [
       "['Kashmira', 'Marbin', 'Zahid']"
      ]
     },
     "execution_count": 22,
     "metadata": {},
     "output_type": "execute_result"
    }
   ],
   "source": [
    "# Create a list `family` that has a list of 3 of your family members' names in it\n",
    "family = [\"Kashmira\", \"Marbin\", \"Zahid\"]\n",
    "family"
   ]
  },
  {
   "cell_type": "code",
   "execution_count": 23,
   "metadata": {},
   "outputs": [
    {
     "data": {
      "text/plain": [
       "['Kashmira', 'Marbin', 'Zahid', 'Zoshua']"
      ]
     },
     "execution_count": 23,
     "metadata": {},
     "output_type": "execute_result"
    }
   ],
   "source": [
    "# Use the `append` list method to add another family member to your `family` list\n",
    "family.append(\"Zoshua\")\n",
    "family"
   ]
  },
  {
   "cell_type": "code",
   "execution_count": 24,
   "metadata": {},
   "outputs": [
    {
     "data": {
      "text/plain": [
       "['Kashmira', 'Marbin', 'Zahid', 'Zoshua', 'Utsav', 'Varun', 'Subair']"
      ]
     },
     "execution_count": 24,
     "metadata": {},
     "output_type": "execute_result"
    }
   ],
   "source": [
    "# Create and print a list `people` that contains your lists `friends` and `family`\n",
    "\n",
    "people = family + friends\n",
    "people"
   ]
  },
  {
   "cell_type": "markdown",
   "metadata": {},
   "source": [
    "## Dictionaries\n",
    "A **dictionary** is an object stores a _key-value pair_ in python. You can create a dictionary by passing _colon separated_ pairs inside of curly braces (i.e., `dict = {'key':value}`)"
   ]
  },
  {
   "cell_type": "code",
   "execution_count": 25,
   "metadata": {},
   "outputs": [
    {
     "data": {
      "text/plain": [
       "{'Name': 'Mahir Dalal',\n",
       " 'Favourite Food': 'Pizza',\n",
       " 'Favourite Drink': 'Coke',\n",
       " 'College': 'ISME'}"
      ]
     },
     "execution_count": 25,
     "metadata": {},
     "output_type": "execute_result"
    }
   ],
   "source": [
    "Mahir_dictionary = {\"Name\": \"Mahir Dalal\",\"Favourite Food\": \"Pizza\", \"Favourite Drink\": \"Coke\", \"College\":\"ISME\"}\n",
    "Mahir_dictionary  "
   ]
  },
  {
   "cell_type": "code",
   "execution_count": 26,
   "metadata": {},
   "outputs": [
    {
     "data": {
      "text/plain": [
       "'Mahir Dalal'"
      ]
     },
     "execution_count": 26,
     "metadata": {},
     "output_type": "execute_result"
    }
   ],
   "source": [
    "Mahir_dictionary [\"Name\"]  "
   ]
  },
  {
   "cell_type": "code",
   "execution_count": 27,
   "metadata": {},
   "outputs": [
    {
     "data": {
      "text/plain": [
       "{'Age': 33, 'Team': 'India'}"
      ]
     },
     "execution_count": 27,
     "metadata": {},
     "output_type": "execute_result"
    }
   ],
   "source": [
    "#Dictionary called Virat Kohli with his age and his current team\n",
    "Virat_Kohli = {\"Age\": 33, \"Team\": \"India\"}\n",
    "#printed Virat Kohli\n",
    "Virat_Kohli  "
   ]
  },
  {
   "cell_type": "code",
   "execution_count": 28,
   "metadata": {},
   "outputs": [
    {
     "data": {
      "text/plain": [
       "{'Age': 33, 'Team': 'India', 'Scores': {77, 83, 90}}"
      ]
     },
     "execution_count": 28,
     "metadata": {},
     "output_type": "execute_result"
    }
   ],
   "source": [
    "#added a new key called scores and the value of the key was a list of his scores\n",
    "Virat_Kohli[\"Scores\"] = {77, 83, 90} \n",
    "#printed Virat Kohli\n",
    "Virat_Kohli   \n",
    " "
   ]
  },
  {
   "cell_type": "code",
   "execution_count": 29,
   "metadata": {},
   "outputs": [
    {
     "ename": "AttributeError",
     "evalue": "'dict' object has no attribute 'append'",
     "output_type": "error",
     "traceback": [
      "\u001b[1;31m---------------------------------------------------------------------------\u001b[0m",
      "\u001b[1;31mAttributeError\u001b[0m                            Traceback (most recent call last)",
      "\u001b[1;32m<ipython-input-29-28f3eeef4e4f>\u001b[0m in \u001b[0;36m<module>\u001b[1;34m\u001b[0m\n\u001b[0;32m      1\u001b[0m \u001b[1;31m#how can I add a score of 10 runs to the list in the Virat_Kohli dictionary\u001b[0m\u001b[1;33m\u001b[0m\u001b[1;33m\u001b[0m\u001b[1;33m\u001b[0m\u001b[0m\n\u001b[1;32m----> 2\u001b[1;33m \u001b[0mVirat_Kohli\u001b[0m\u001b[1;33m.\u001b[0m\u001b[0mappend\u001b[0m\u001b[1;33m(\u001b[0m\u001b[1;36m10\u001b[0m\u001b[1;33m)\u001b[0m\u001b[1;33m\u001b[0m\u001b[1;33m\u001b[0m\u001b[0m\n\u001b[0m\u001b[0;32m      3\u001b[0m \u001b[0mVirat_kohli\u001b[0m\u001b[1;33m\u001b[0m\u001b[1;33m\u001b[0m\u001b[0m\n",
      "\u001b[1;31mAttributeError\u001b[0m: 'dict' object has no attribute 'append'"
     ]
    }
   ],
   "source": [
    "#how can I add a score of 10 runs to the list in the Virat_Kohli dictionary\n",
    "Virat_Kohli.append(10)\n",
    "Virat_kohli   "
   ]
  },
  {
   "cell_type": "code",
   "execution_count": null,
   "metadata": {},
   "outputs": [],
   "source": [
    "#Total keys in Virat kohli\n",
    "num_keys_Virat_kohli = len(Virat_kohli)\n",
    "num_keys_Virat_kohli "
   ]
  },
  {
   "cell_type": "code",
   "execution_count": null,
   "metadata": {},
   "outputs": [],
   "source": [
    "# Create a dictionary `people_dict` that has a key for `family` and a key for `friends` (using values above)\n",
    "\n",
    "people_dict = {\"family\":family, \"friends\":friends}\n",
    "print(people_dict)\n"
   ]
  },
  {
   "cell_type": "code",
   "execution_count": null,
   "metadata": {},
   "outputs": [],
   "source": [
    "# Add a new key `coworkers` to your `people_dict` object (it should contain 3 names of coworkers) \n",
    "people_dict[\"coworkers\"] = [\"zubair\", \"ansul\", \"yiran\"]\n",
    "people_dict"
   ]
  },
  {
   "cell_type": "code",
   "execution_count": null,
   "metadata": {},
   "outputs": [],
   "source": [
    "# Print your people_dict object\n",
    "print(people_dict)"
   ]
  },
  {
   "cell_type": "code",
   "execution_count": null,
   "metadata": {},
   "outputs": [],
   "source": [
    "# Create and print a variable `num_people_categories` that conatins the *number of keys* of your `people_dict` \n",
    "num_people_categories = len(people_dict)\n",
    "num_people_categories"
   ]
  },
  {
   "cell_type": "markdown",
   "metadata": {},
   "source": [
    "# Functions\n",
    "Functions are a series of executable steps stored in a variable. They can be created with the `def` keyword."
   ]
  },
  {
   "cell_type": "code",
   "execution_count": null,
   "metadata": {},
   "outputs": [],
   "source": [
    "#Addition\n",
    "def add_two_numbers(number1, number2):\n",
    "    total=number1+number2\n",
    "    return total  "
   ]
  },
  {
   "cell_type": "code",
   "execution_count": null,
   "metadata": {},
   "outputs": [],
   "source": [
    "add_two_numbers(3,4)  "
   ]
  },
  {
   "cell_type": "code",
   "execution_count": null,
   "metadata": {},
   "outputs": [],
   "source": [
    "#Average of 2 numbers\n",
    "def average_two_numbers(number1,number2):\n",
    "    print(\"number1 is=\", number1)\n",
    "    print(\"number2 is=\", number2)\n",
    "    average_two_numbers=(number1+number2)/2\n",
    "    return total_average     \n"
   ]
  },
  {
   "cell_type": "code",
   "execution_count": null,
   "metadata": {},
   "outputs": [],
   "source": [
    "#Average of 2 numbers shorter\n",
    "def average_two_numbers_shorter (number1, number2):\n",
    "    print (\"number1 is\", number1)\n",
    "    print (\"number2 is\", number2)\n",
    "    return \"the average is \" +str(((number1+number2)/2))    "
   ]
  },
  {
   "cell_type": "code",
   "execution_count": null,
   "metadata": {},
   "outputs": [],
   "source": [
    "average_two_numbers_shorter(2,4)  "
   ]
  },
  {
   "cell_type": "code",
   "execution_count": null,
   "metadata": {},
   "outputs": [],
   "source": [
    "# Write a function `make_awesome` that adds the string \" is awesome!\" to the end of any parameter it is passed\n",
    "# Include a proper doc string that describes what the function returns\n",
    "\n",
    "\n",
    "# returns the words \" is awesome\" after the string (text_input) passed through parameters\n",
    "def make_awesome(text_input): \n",
    "    return text_input + \" is awesome!\" \n",
    "\n",
    "\n"
   ]
  },
  {
   "cell_type": "code",
   "execution_count": null,
   "metadata": {},
   "outputs": [],
   "source": [
    "# Pass \"Data Science\" to your function\n",
    "make_awesome(\"data science\")  \n"
   ]
  },
  {
   "cell_type": "code",
   "execution_count": null,
   "metadata": {},
   "outputs": [],
   "source": [
    "# Write a function `is_it_awesome` that returns a boolean (true/false) if a string has the word \"awesome\" in it\n",
    "# Include a proper doc string that describes what the function returns\n",
    "\n",
    "# returns a boolean if the string passed through parameters contains \"awesome\"\n",
    "def is_it_awesome(text_input): \n",
    "    return \"awesome\" in text_input \n",
    "\n",
    "\n",
    "    "
   ]
  },
  {
   "cell_type": "code",
   "execution_count": null,
   "metadata": {},
   "outputs": [],
   "source": [
    "def test_awesome (text_input):\n",
    "    return \"awesome\"  is text_input "
   ]
  },
  {
   "cell_type": "code",
   "execution_count": null,
   "metadata": {},
   "outputs": [],
   "source": [
    "# Pass a phrase of your choice to the `test_awesome` function\n",
    "\n",
    "test_awesome(\"mahir is Awesome\") "
   ]
  },
  {
   "cell_type": "code",
   "execution_count": null,
   "metadata": {},
   "outputs": [],
   "source": [
    "# Pass a phrase of your choice to the `is_it_awesome` function\n",
    "\n",
    "is_it_awesome(\"mike is awesome\") \n"
   ]
  },
  {
   "cell_type": "code",
   "execution_count": null,
   "metadata": {},
   "outputs": [],
   "source": [
    "# Write a more general function `phrase_has_string` that takes in a `phrase` and a `string` and returns\n",
    "# A boolean indicating if the phrase contains the string. It should not be case sensitive.\n",
    "# Include a proper doc string that describes what the function returns\n",
    "\n",
    "# returns a boolean if the text contains the phrase passed through the parameters\n",
    "def phrase_has_string(phrase, text_input): \n",
    "    return phrase in text_input \n"
   ]
  },
  {
   "cell_type": "code",
   "execution_count": null,
   "metadata": {},
   "outputs": [],
   "source": [
    "# Test out your function\n",
    "phrase_has_string(\"car\", \"I want a car ...amongst other things\") "
   ]
  },
  {
   "cell_type": "code",
   "execution_count": null,
   "metadata": {},
   "outputs": [],
   "source": [
    "# Define a function `count_relationships` that takes in a dictionary of relationships (such as `people_dict`)\n",
    "# And returns a dictionary of the number of relationships of each type (i.e. {\"friends\":4, \"family\":3})\n",
    "# Hint: use a loop\n",
    "# Include a proper doc string that describes what the function returns\n",
    "\n",
    "\n",
    "# returns the number of values in a list for each key in the dictionary passed through the parameters\n",
    "def count_relationships(relationships):\n",
    "    for k in relationships:\n",
    "        relationships[k] = len(relationships[k])\n",
    "    return (relationships) "
   ]
  },
  {
   "cell_type": "code",
   "execution_count": null,
   "metadata": {},
   "outputs": [],
   "source": []
  },
  {
   "cell_type": "code",
   "execution_count": null,
   "metadata": {
    "scrolled": true
   },
   "outputs": [],
   "source": [
    "# Pass `people_dict` to `count_relationships`\n",
    "count_relationships(people_dict) "
   ]
  },
  {
   "cell_type": "code",
   "execution_count": null,
   "metadata": {},
   "outputs": [],
   "source": [
    "# Define a function `total_relationships` take in a dictionary of relationships (such as `people_dict`)\n",
    "# And returns the total number of relationships\n",
    "# Hint: use a *list comprehension* and your `count_relationships` function (separately)\n",
    "# Include a proper doc string that describes what the function returns\n",
    "\n",
    "# returns the total number of relationships in the dictionary passed to it through the pararmeters\n",
    "def total_relationships(relationships):\n",
    "    d_new = count_relationships(relationships)\n",
    "    total = 0\n",
    "    for k in d_new:\n",
    "        total = total + d_new[k]\n",
    "    return total "
   ]
  },
  {
   "cell_type": "code",
   "execution_count": null,
   "metadata": {},
   "outputs": [],
   "source": [
    "test = {'family': ['Kashmira', 'Marbin', 'Zahid', 'Zoshua'],\n",
    " 'friends': ['Utsav', 'Varun', 'Zubair'],\n",
    " 'coworkers': ['zubair', 'ansul', 'yiran']} "
   ]
  },
  {
   "cell_type": "code",
   "execution_count": null,
   "metadata": {},
   "outputs": [],
   "source": [
    "# Use the `total_relationships` function to count the number of people in `people_dict`\n",
    "\n",
    "# total_rel = total_relationships(people_dict)\n",
    "# for some reason my people_dict variable gets messed up after it runs in the count_relationships\n",
    "\n",
    "# I have used test due to the error I get when I try to use the people_dict variable\n",
    "total_rel = total_relationships(test)\n",
    "total_rel "
   ]
  },
  {
   "cell_type": "code",
   "execution_count": null,
   "metadata": {},
   "outputs": [],
   "source": []
  }
 ],
 "metadata": {
  "kernelspec": {
   "display_name": "Python 3",
   "language": "python",
   "name": "python3"
  },
  "language_info": {
   "codemirror_mode": {
    "name": "ipython",
    "version": 3
   },
   "file_extension": ".py",
   "mimetype": "text/x-python",
   "name": "python",
   "nbconvert_exporter": "python",
   "pygments_lexer": "ipython3",
   "version": "3.8.8"
  }
 },
 "nbformat": 4,
 "nbformat_minor": 2
}
