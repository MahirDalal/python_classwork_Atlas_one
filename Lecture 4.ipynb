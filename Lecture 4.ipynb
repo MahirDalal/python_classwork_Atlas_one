{
 "cells": [
  {
   "cell_type": "markdown",
   "metadata": {},
   "source": [
    "# Classwork Lecture 4\n",
    "\n",
    "In this exercise, you'll get familiar with the following basics of python:\n",
    "\n",
    "- String Functions\n",
    "- If Else Statements\n",
    "- For Loops"
   ]
  },
  {
   "cell_type": "markdown",
   "metadata": {},
   "source": [
    "## Student Details\n",
    "\n",
    "- Name:\n",
    "- Division: \n",
    "- Roll: "
   ]
  },
  {
   "cell_type": "markdown",
   "metadata": {},
   "source": [
    "# String Functions\n",
    "\n",
    "Python has a set of built-in methods that you can use on strings. Please complete the following short exercise to learn more about the different string functions. \n",
    "\n",
    "[See Reference Library of String Functions](https://www.w3schools.com/python/python_ref_string.asp)\n"
   ]
  },
  {
   "cell_type": "markdown",
   "metadata": {},
   "source": [
    "## Part 1"
   ]
  },
  {
   "cell_type": "code",
   "execution_count": 1,
   "metadata": {},
   "outputs": [],
   "source": [
    "# Name\n",
    "\n",
    "#Empty String\n",
    "\n",
    "#String with numeric values in it\n"
   ]
  },
  {
   "cell_type": "code",
   "execution_count": 2,
   "metadata": {},
   "outputs": [
    {
     "data": {
      "text/plain": [
       "'mahir'"
      ]
     },
     "execution_count": 2,
     "metadata": {},
     "output_type": "execute_result"
    }
   ],
   "source": [
    "# Q1 A Create and print a variable called \"my_name\"that stores your name in all lower case\n",
    "\n",
    "my_name = \"mahir\"\n",
    "my_name "
   ]
  },
  {
   "cell_type": "code",
   "execution_count": 3,
   "metadata": {},
   "outputs": [
    {
     "data": {
      "text/plain": [
       "'Mahir'"
      ]
     },
     "execution_count": 3,
     "metadata": {},
     "output_type": "execute_result"
    }
   ],
   "source": [
    "# Q1 B Capitalize the first letter of \"my_name\" and then print it\n",
    "\n",
    "my_name = my_name.capitalize()\n",
    "my_name "
   ]
  },
  {
   "cell_type": "code",
   "execution_count": 4,
   "metadata": {},
   "outputs": [
    {
     "data": {
      "text/plain": [
       "'MAHIR'"
      ]
     },
     "execution_count": 4,
     "metadata": {},
     "output_type": "execute_result"
    }
   ],
   "source": [
    "# Q1 C Capitalize all letters of \"my_name\" and then print it\n",
    "\n",
    "my_name = my_name.upper()\n",
    "my_name "
   ]
  },
  {
   "cell_type": "markdown",
   "metadata": {},
   "source": [
    "## Part 2"
   ]
  },
  {
   "cell_type": "code",
   "execution_count": 5,
   "metadata": {},
   "outputs": [
    {
     "data": {
      "text/plain": [
       "'I love apples, apples are my favorite fruit'"
      ]
     },
     "execution_count": 5,
     "metadata": {},
     "output_type": "execute_result"
    }
   ],
   "source": [
    "# Q2 Create and print a variable called \"my_favorite_fruit\" \n",
    "# and make it store \"I love apples, apples are my favorite fruit\"\n",
    "\n",
    "my_favorite_fruit = \"I love apples, apples are my favorite fruit\"\n",
    "my_favorite_fruit \n"
   ]
  },
  {
   "cell_type": "code",
   "execution_count": 6,
   "metadata": {},
   "outputs": [
    {
     "data": {
      "text/plain": [
       "'I love'"
      ]
     },
     "execution_count": 6,
     "metadata": {},
     "output_type": "execute_result"
    }
   ],
   "source": [
    "# Q2 Make A Sub String of the first five characters\n",
    "\n",
    "first_five_characters = my_favorite_fruit[0:6]\n",
    "first_five_characters "
   ]
  },
  {
   "cell_type": "code",
   "execution_count": 7,
   "metadata": {},
   "outputs": [
    {
     "data": {
      "text/plain": [
       "True"
      ]
     },
     "execution_count": 7,
     "metadata": {},
     "output_type": "execute_result"
    }
   ],
   "source": [
    "# Q2 B Print whether \"my_favorite_fruit\" ends with \"fruit\"\n",
    "\n",
    "my_favorite_fruit.endswith(\"fruit\") "
   ]
  },
  {
   "cell_type": "code",
   "execution_count": 8,
   "metadata": {},
   "outputs": [
    {
     "data": {
      "text/plain": [
       "2"
      ]
     },
     "execution_count": 8,
     "metadata": {},
     "output_type": "execute_result"
    }
   ],
   "source": [
    "# Q2 C Count and print the number of times the value \"apple\" appears in the string\n",
    "\n",
    "apple_count = my_favorite_fruit.count(\"apple\")\n",
    "apple_count "
   ]
  },
  {
   "cell_type": "code",
   "execution_count": 9,
   "metadata": {},
   "outputs": [
    {
     "data": {
      "text/plain": [
       "'I love bananas, bananas are my favorite fruit'"
      ]
     },
     "execution_count": 9,
     "metadata": {},
     "output_type": "execute_result"
    }
   ],
   "source": [
    "# Q2 D Replace \"apple\" with \"banana\" in \"my_favorite_fruit\"\n",
    "\n",
    "my_favorite_fruit = my_favorite_fruit.replace(\"apple\", \"banana\")\n",
    "my_favorite_fruit \n"
   ]
  },
  {
   "cell_type": "code",
   "execution_count": 10,
   "metadata": {},
   "outputs": [
    {
     "data": {
      "text/plain": [
       "'I Love Bananas, Bananas Are My Favorite Fruit'"
      ]
     },
     "execution_count": 10,
     "metadata": {},
     "output_type": "execute_result"
    }
   ],
   "source": [
    "# Q2 E Convert the first character of each word in \"my_favorite_fruit\" to upper case\n",
    "\n",
    "my_favorite_fruit = my_favorite_fruit.title()\n",
    "my_favorite_fruit "
   ]
  },
  {
   "cell_type": "code",
   "execution_count": 11,
   "metadata": {},
   "outputs": [
    {
     "data": {
      "text/plain": [
       "['I Love Bananas', 'Bananas Are My Favorite Fruit']"
      ]
     },
     "execution_count": 11,
     "metadata": {},
     "output_type": "execute_result"
    }
   ],
   "source": [
    "# Q2 F Split \"my_favorite_fruit\" on \",\" and print the result\n",
    "\n",
    "split_list = my_favorite_fruit.split(\", \")\n",
    "split_list \n"
   ]
  },
  {
   "cell_type": "markdown",
   "metadata": {},
   "source": [
    " If Else Statements\n",
    "\n",
    "[See Reference]"
   ]
  },
  {
   "cell_type": "code",
   "execution_count": 12,
   "metadata": {},
   "outputs": [],
   "source": [
    "# Function that prints if the mother is older\n",
    "\n",
    "def is_mother_older(mother_age, father_age):\n",
    "    if mother_age>father_age:\n",
    "        print (\"mother is older than father\")\n",
    "    elif mother_age == father_age:\n",
    "        print (\"mothe is same age as father\")\n",
    "    else: \n",
    "         print(\"mother is not older than father\") "
   ]
  },
  {
   "cell_type": "code",
   "execution_count": 13,
   "metadata": {},
   "outputs": [
    {
     "name": "stdout",
     "output_type": "stream",
     "text": [
      "mothe is same age as father\n"
     ]
    }
   ],
   "source": [
    "is_mother_older(65,65) "
   ]
  },
  {
   "cell_type": "markdown",
   "metadata": {},
   "source": [
    " Make a Pass Fail Function That Accepts a Grade\n",
    "- if greater than 35 should print \"pass\"\n",
    "- else if the grade is 35 should print \"just passed\"\n",
    "- else print \"failed\" "
   ]
  },
  {
   "cell_type": "code",
   "execution_count": 14,
   "metadata": {},
   "outputs": [],
   "source": [
    "def pass_fail(grade):\n",
    "    if grade > 35:\n",
    "        print (\"pass\")\n",
    "    elif grade == 35:\n",
    "          print (\"just passed\")\n",
    "    else:\n",
    "         print (\"failed\") "
   ]
  },
  {
   "cell_type": "code",
   "execution_count": 15,
   "metadata": {},
   "outputs": [
    {
     "name": "stdout",
     "output_type": "stream",
     "text": [
      "pass\n",
      "just passed\n",
      "failed\n"
     ]
    }
   ],
   "source": [
    "pass_fail(37)  \n",
    "pass_fail(35)\n",
    "pass_fail(33) "
   ]
  },
  {
   "cell_type": "markdown",
   "metadata": {},
   "source": [
    "# Create a function that accepts the current temperature and returns \"is hot\" if the temperature is greater than 24 and returns \"is not hot\" if the temperature is equal to or below 24"
   ]
  },
  {
   "cell_type": "code",
   "execution_count": 16,
   "metadata": {},
   "outputs": [],
   "source": [
    "def is_hot_or_not(temperature):\n",
    "    if temperature > 24:\n",
    "            return \"is hot\"\n",
    "    else:\n",
    "            return \"is not hot\"  \n",
    "            "
   ]
  },
  {
   "cell_type": "code",
   "execution_count": 17,
   "metadata": {},
   "outputs": [
    {
     "data": {
      "text/plain": [
       "'is hot'"
      ]
     },
     "execution_count": 17,
     "metadata": {},
     "output_type": "execute_result"
    }
   ],
   "source": [
    "temperature_today = is_hot_or_not(30)\n",
    "temperature_today "
   ]
  },
  {
   "cell_type": "markdown",
   "metadata": {},
   "source": [
    "# Grades\n",
    "\n",
    "- A Grade: 90 and above\n",
    "- B Grade: 70 and 89\n",
    "- C Grade: 50 and 69\n",
    "- D Grade: 35 and 49\n",
    "- F Grade: Anything below 35"
   ]
  },
  {
   "cell_type": "code",
   "execution_count": 18,
   "metadata": {},
   "outputs": [],
   "source": [
    "#Grader Function\n",
    "\n",
    "def grader(score):\n",
    "    \n",
    "    if score >= 90:\n",
    "        return \"A\"\n",
    "    elif score >= 70 and score <=89:\n",
    "        return \"B\"\n",
    "    elif score >=50 and score <=69:\n",
    "        return \"C\"\n",
    "    elif score >= 30 and score <=49:\n",
    "        return \"D\"\n",
    "    else:\n",
    "        return \"F\" \n",
    "    "
   ]
  },
  {
   "cell_type": "code",
   "execution_count": 19,
   "metadata": {},
   "outputs": [
    {
     "data": {
      "text/plain": [
       "'A'"
      ]
     },
     "execution_count": 19,
     "metadata": {},
     "output_type": "execute_result"
    }
   ],
   "source": [
    "mahir_grade = grader(90) \n",
    "mahir_grade "
   ]
  },
  {
   "cell_type": "code",
   "execution_count": 20,
   "metadata": {},
   "outputs": [],
   "source": [
    "# Create a function called \"goldilocks\" that accepts a numeric temperature value \n",
    "# and returns \"This porridge is too hot!\" if the temperature value is >= 80\n",
    "# and returns \"This porridge is just right\" if the temperature value is between 40 and 79\n",
    "# and returns \"This porridge is too cold\" if the temperature value is below 40"
   ]
  },
  {
   "cell_type": "code",
   "execution_count": 21,
   "metadata": {},
   "outputs": [],
   "source": [
    "def goldilocks (temp):\n",
    "    if temp>=80:\n",
    "        return \"this porridge is too hot\"\n",
    "    elif temp <80 and temp>=40:\n",
    "        return \"this porridge is just right\"\n",
    "    else: \n",
    "        return \"this porridge is too cold\" "
   ]
  },
  {
   "cell_type": "code",
   "execution_count": 22,
   "metadata": {},
   "outputs": [
    {
     "data": {
      "text/plain": [
       "'this porridge is too hot'"
      ]
     },
     "execution_count": 22,
     "metadata": {},
     "output_type": "execute_result"
    }
   ],
   "source": [
    "goldilocks(86) "
   ]
  },
  {
   "cell_type": "markdown",
   "metadata": {},
   "source": [
    "# For Loops"
   ]
  },
  {
   "cell_type": "code",
   "execution_count": 23,
   "metadata": {
    "scrolled": true
   },
   "outputs": [
    {
     "data": {
      "text/plain": [
       "['don 2', 'dhoom 2', 'spiderman 2', 'golmaal 2']"
      ]
     },
     "execution_count": 23,
     "metadata": {},
     "output_type": "execute_result"
    }
   ],
   "source": [
    "# Create a list of your favorite movies\n",
    "\n",
    "movies = [\"don 2\", \"dhoom 2\", \"spiderman 2\", \"golmaal 2\"]\n",
    "movies "
   ]
  },
  {
   "cell_type": "code",
   "execution_count": 24,
   "metadata": {},
   "outputs": [
    {
     "name": "stdout",
     "output_type": "stream",
     "text": [
      "i love don 2\n",
      "i love dhoom 2\n",
      "i love spiderman 2\n",
      "i love golmaal 2\n"
     ]
    }
   ],
   "source": [
    "# Create a for loop that prints each of your favorite movies with the text \"I love \"\n",
    "\n",
    "for movie in movies:\n",
    "        print (\"i love\", movie) "
   ]
  },
  {
   "cell_type": "code",
   "execution_count": 25,
   "metadata": {},
   "outputs": [],
   "source": [
    "# Create a list of your favorite cars and favorite colors\n",
    "\n",
    "cars = [\"ferrari\", \"audi\",\"bmw\"]\n",
    "colors = [\"blue\", \"red\", \"black\"] "
   ]
  },
  {
   "cell_type": "code",
   "execution_count": 26,
   "metadata": {},
   "outputs": [
    {
     "name": "stdout",
     "output_type": "stream",
     "text": [
      "blue ferrari\n",
      "blue audi\n",
      "blue bmw\n",
      "red ferrari\n",
      "red audi\n",
      "red bmw\n",
      "black ferrari\n",
      "black audi\n",
      "black bmw\n"
     ]
    }
   ],
   "source": [
    "# Create a nested for loop that prints your favorite car names for each favorite color\n",
    "\n",
    "for color in colors:\n",
    "    for car in cars:\n",
    "        print(color, car) "
   ]
  },
  {
   "cell_type": "markdown",
   "metadata": {},
   "source": [
    "# Create a function that accepts a list of colors and a list of cars  and then returns the following\n",
    "\n",
    "- \"Yes it exists\" if the car combination \"Speed Red Mazda\" is possible\n",
    "- \"Does not exist\" if the car combination \"Speed Red Mazda\" is not possible"
   ]
  },
  {
   "cell_type": "code",
   "execution_count": null,
   "metadata": {},
   "outputs": [],
   "source": []
  },
  {
   "cell_type": "code",
   "execution_count": 27,
   "metadata": {},
   "outputs": [],
   "source": [
    "def speed_red_mazda_exists(cars, colors):\n",
    "    for car in cars:\n",
    "        if car == \"mazda\":\n",
    "            for color in colors:\n",
    "                if color == \"speed red\":\n",
    "                    return \"yes it exists\"\n",
    "                \n",
    "                \n",
    "    return \"it does not exist\"   "
   ]
  },
  {
   "cell_type": "code",
   "execution_count": 28,
   "metadata": {},
   "outputs": [],
   "source": [
    "cars_list_1 = [\"ferrari\", \"audi\",\"bmw\",\"mazda\"]\n",
    "colors_list_1 = [\"blue\", \"red\", \"black\"]  \n",
    " "
   ]
  },
  {
   "cell_type": "code",
   "execution_count": 29,
   "metadata": {},
   "outputs": [],
   "source": [
    "cars_lists_2 =[\"ferrari\", \"audi\",\"bmw\",\"mazda\"]\n",
    "colors_list_2 = [\"blue\", \"red\", \"black\", \"speed red\"]  \n",
    " "
   ]
  },
  {
   "cell_type": "code",
   "execution_count": 30,
   "metadata": {},
   "outputs": [
    {
     "data": {
      "text/plain": [
       "'yes it exists'"
      ]
     },
     "execution_count": 30,
     "metadata": {},
     "output_type": "execute_result"
    }
   ],
   "source": [
    "speed_red_mazda_exists(cars_lists_2,colors_list_2 )  "
   ]
  }
 ],
 "metadata": {
  "kernelspec": {
   "display_name": "Python 3",
   "language": "python",
   "name": "python3"
  },
  "language_info": {
   "codemirror_mode": {
    "name": "ipython",
    "version": 3
   },
   "file_extension": ".py",
   "mimetype": "text/x-python",
   "name": "python",
   "nbconvert_exporter": "python",
   "pygments_lexer": "ipython3",
   "version": "3.8.8"
  }
 },
 "nbformat": 4,
 "nbformat_minor": 2
}
