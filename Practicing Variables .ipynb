{
 "cells": [
  {
   "cell_type": "markdown",
   "id": "5b20af98",
   "metadata": {},
   "source": [
    "# Practice your variables!\n",
    "Course: BBA 108-Essentials of Computing & Coding\n",
    "\n",
    "Submission date: Sunday (19/09/21), 11:59 p.m.\n",
    "\n",
    "Hey everyone! This is a practice bonus assignment worth 10 points. I **highly** encourage all of you to do this.\n",
    "\n",
    "Please contact the following **on Slack** if there are any questions or issues:\n",
    "\n",
    "- @Shourya Watwani \n",
    "- @Vanshika Raj \n",
    "- @Aryan Gupta \n",
    "\n",
    "Thank you! Happy coding :)\n"
   ]
  },
  {
   "cell_type": "code",
   "execution_count": 1,
   "id": "d7643d51",
   "metadata": {},
   "outputs": [
    {
     "data": {
      "text/plain": [
       "'Mahir Dalal'"
      ]
     },
     "execution_count": 1,
     "metadata": {},
     "output_type": "execute_result"
    }
   ],
   "source": [
    "# Create and print a variable to tell us your name.\n",
    "my_name = \"Mahir Dalal\"\n",
    "my_name "
   ]
  },
  {
   "cell_type": "code",
   "execution_count": 2,
   "id": "a48e84de",
   "metadata": {},
   "outputs": [
    {
     "data": {
      "text/plain": [
       "18"
      ]
     },
     "execution_count": 2,
     "metadata": {},
     "output_type": "execute_result"
    }
   ],
   "source": [
    "# Create and print a variable to tell us your age.\n",
    "my_age = 18\n",
    "my_age "
   ]
  },
  {
   "cell_type": "code",
   "execution_count": 3,
   "id": "fb242ec5",
   "metadata": {},
   "outputs": [
    {
     "data": {
      "text/plain": [
       "30"
      ]
     },
     "execution_count": 3,
     "metadata": {},
     "output_type": "execute_result"
    }
   ],
   "source": [
    "# Create and print a variable to tell us how many times you've taken a trip within India.\n",
    "trips_in_india = 30\n",
    "trips_in_india "
   ]
  },
  {
   "cell_type": "code",
   "execution_count": 4,
   "id": "ac849402",
   "metadata": {},
   "outputs": [
    {
     "data": {
      "text/plain": [
       "10"
      ]
     },
     "execution_count": 4,
     "metadata": {},
     "output_type": "execute_result"
    }
   ],
   "source": [
    "# Create and print a variable to tell us how many times you've taken a trip outside India.\n",
    "trips_outside_india = 10\n",
    "trips_outside_india "
   ]
  },
  {
   "cell_type": "code",
   "execution_count": 5,
   "id": "bf7668ee",
   "metadata": {},
   "outputs": [
    {
     "data": {
      "text/plain": [
       "40"
      ]
     },
     "execution_count": 5,
     "metadata": {},
     "output_type": "execute_result"
    }
   ],
   "source": [
    "# Create and print a variable to calculate the total number of trips you've taken.\n",
    "total_trips = (trips_in_india +trips_outside_india )\n",
    "total_trips "
   ]
  },
  {
   "cell_type": "code",
   "execution_count": 6,
   "id": "466bc1ec",
   "metadata": {},
   "outputs": [
    {
     "data": {
      "text/plain": [
       "'total number of trips I have taken is '"
      ]
     },
     "execution_count": 6,
     "metadata": {},
     "output_type": "execute_result"
    }
   ],
   "source": [
    "#Starting phrase\n",
    "starting_phrase = \"total number of trips I have taken is \"\n",
    "starting_phrase "
   ]
  },
  {
   "cell_type": "code",
   "execution_count": 7,
   "id": "52224f94",
   "metadata": {},
   "outputs": [
    {
     "data": {
      "text/plain": [
       "'total number of trips I have taken is 40'"
      ]
     },
     "execution_count": 7,
     "metadata": {},
     "output_type": "execute_result"
    }
   ],
   "source": [
    "# Create and print a variable to tell us total number of trips you've taken, using the numeric value in a sentence.\n",
    "sentance = starting_phrase + str(total_trips )\n",
    "sentance "
   ]
  },
  {
   "cell_type": "code",
   "execution_count": 8,
   "id": "612c68f3",
   "metadata": {},
   "outputs": [
    {
     "data": {
      "text/plain": [
       "True"
      ]
     },
     "execution_count": 8,
     "metadata": {},
     "output_type": "execute_result"
    }
   ],
   "source": [
    "# Create and print a variable to tell us whether the statement-\n",
    "# -\"I have taken more trips within India than outside India\" is true or false using boolean variables.\n",
    "I_have_taken_more_trips_within_India_than_outside_India = trips_in_india> trips_outside_india \n",
    "I_have_taken_more_trips_within_India_than_outside_India "
   ]
  },
  {
   "cell_type": "code",
   "execution_count": 9,
   "id": "aaee2c68",
   "metadata": {},
   "outputs": [
    {
     "data": {
      "text/plain": [
       "2.2222222222222223"
      ]
     },
     "execution_count": 9,
     "metadata": {},
     "output_type": "execute_result"
    }
   ],
   "source": [
    "# Create and print a variable to calculate the average number of trips you've taken in a year using-\n",
    "# your total number of trips and your age.\n",
    "avg_trips = total_trips/my_age\n",
    "avg_trips "
   ]
  },
  {
   "cell_type": "code",
   "execution_count": 10,
   "id": "cbc12847",
   "metadata": {},
   "outputs": [
    {
     "data": {
      "text/plain": [
       "'average number of trips I have take per year is '"
      ]
     },
     "execution_count": 10,
     "metadata": {},
     "output_type": "execute_result"
    }
   ],
   "source": [
    "#phrase\n",
    "phrase = \"average number of trips I have take per year is \"\n",
    "phrase "
   ]
  },
  {
   "cell_type": "code",
   "execution_count": 11,
   "id": "810f16f4",
   "metadata": {},
   "outputs": [
    {
     "data": {
      "text/plain": [
       "'average number of trips I have take per year is 2.2222222222222223'"
      ]
     },
     "execution_count": 11,
     "metadata": {},
     "output_type": "execute_result"
    }
   ],
   "source": [
    "# Create and print a variable to tell us average number of trips you've taken, using the numeric value in a sentence.\n",
    "sentance = phrase + str(avg_trips)\n",
    "sentance \n"
   ]
  }
 ],
 "metadata": {
  "kernelspec": {
   "display_name": "Python 3",
   "language": "python",
   "name": "python3"
  },
  "language_info": {
   "codemirror_mode": {
    "name": "ipython",
    "version": 3
   },
   "file_extension": ".py",
   "mimetype": "text/x-python",
   "name": "python",
   "nbconvert_exporter": "python",
   "pygments_lexer": "ipython3",
   "version": "3.8.8"
  }
 },
 "nbformat": 4,
 "nbformat_minor": 5
}
